{
  "nbformat": 4,
  "nbformat_minor": 0,
  "metadata": {
    "colab": {
      "provenance": []
    },
    "kernelspec": {
      "name": "python3",
      "display_name": "Python 3"
    },
    "language_info": {
      "name": "python"
    }
  },
  "cells": [
    {
      "cell_type": "markdown",
      "source": [
        "# Python Basics\n"
      ],
      "metadata": {
        "id": "B0kLsoquLzZx"
      }
    },
    {
      "cell_type": "markdown",
      "source": [
        "#1 Explain the key features of Python that make it a popular choice for programming ?\n",
        " # -> Key Features of Python That Make It a Popular Programming Language\n",
        "  - Python is one of the most widely used programming languages today. It is popular among beginners as well as professionals due to its simplicity, versatility, and wide range of applications. The following are the key features of Python that contribute to its popularity:\n",
        "\n",
        "  # 1. Simple and Easy to Learn\n",
        "\n",
        "   Python has a clean and readable syntax that closely resembles the English language. This simplicity makes it an excellent choice for beginners and allows developers to write clear and concise code.\n",
        "\n",
        "  # 2. Interpreted Language\n",
        "\n",
        "   Python is an interpreted language, which means that the code is executed line-by-line. This feature helps in quick testing and debugging, making development faster and easier.\n",
        "\n",
        "  # 3. Dynamically Typed\n",
        "\n",
        "   In Python, you don’t need to declare the type of a variable. The interpreter determines the type automatically at runtime, which reduces the amount of code and improves flexibility.\n",
        "\n",
        "  # 4. Extensive Standard Library\n",
        "\n",
        "   Python comes with a large standard library that provides modules and functions for tasks such as file handling, regular expressions, web services, databases, and more. This helps developers perform many functions without writing extra code.\n",
        "\n",
        "  # 5. Vast Collection of Third-Party Modules\n",
        "\n",
        "   Python has a large ecosystem of third-party libraries and frameworks, such as:\n",
        "\n",
        "   - NumPy, Pandas for data analysis\n",
        "\n",
        "   - Django, Flask for web development\n",
        "\n",
        "     TensorFlow, PyTorch for machine learning These libraries extend Python’s functionality and allow developers to build powerful applications easily.\n",
        "\n",
        "  # 6. Cross-Platform Compatibility\n",
        "\n",
        "  Python is platform-independent, which means that Python programs can run on various operating systems (Windows, Linux, macOS) without modification.\n",
        "\n",
        "  # 7. Supports Multiple Programming Paradigms\n",
        "\n",
        "  Python supports object-oriented, functional, and procedural programming. This flexibility allows developers to choose the most suitable style for their project.\n",
        "\n",
        "  # 8. Strong Community Support\n",
        "\n",
        "  Python has a large and active community. Developers around the world contribute to Python by creating tools, tutorials, and forums that make it easier to learn and solve problems.\n",
        "\n",
        "\n",
        "  # Conclusion:\n",
        "\n",
        "  Python’s simplicity, versatility, and extensive support libraries make it an ideal programming language for a wide range of applications, including web development, data science, automation, artificial intelligence, and more. These features are the main reasons why Python continues to be a popular and powerful choice among programmers worldwide.\n",
        "\n"
      ],
      "metadata": {
        "id": "RjKTADnxMfRr"
      }
    },
    {
      "cell_type": "markdown",
      "source": [
        "# 2. Describe the role of predefined keywords in Python and provide examples of how they are used in a program ?\n",
        "  ->\n",
        "  \n",
        "  In Python, predefined keywords are special reserved words that have specific meanings and purposes. These keywords form the basic building blocks of any Python program. Since they are reserved by the language, they cannot be used as variable names or identifiers.\n",
        "\n",
        "  # Predefined Keywords:\n",
        "   - if, else, elif – for decision making\n",
        "\n",
        "   - for, while, break, continue – for loops\n",
        "\n",
        "   - def, return – for defining and returning from functions\n",
        "\n",
        "   - try, except, finally – for exception handling\n",
        "\n",
        "   - import, from – for importing modules\n",
        "\n",
        "   - class – for defining a class\n",
        "\n",
        "   - True, False, None – for representing values\n",
        "\n",
        "\n",
        "  # Role of Predefined Keywords:\n",
        "\n",
        " 1. Define the structure and flow of a program:\n",
        "\n",
        "  Keywords like if, else, for, while, and elif help control the logical flow of the program.\n",
        "\n",
        " 2. Function and class creation:\n",
        "\n",
        "  Keywords such as def and class are used to create functions and classes.\n",
        "\n",
        " 3. Handle exceptions and errors:\n",
        "\n",
        "  Keywords like try, except, finally are used for error handling.\n",
        "\n",
        " 4. Represent constant values:\n",
        "\n",
        " True, False, and None are keywords used to represent fixed values.\n",
        "\n",
        " 5. Import external modules:\n",
        "\n",
        "  The import keyword allows programmers to bring in built-in or external libraries.\n",
        "\n",
        "# Examples of Predefined Keywords in Use:\n",
        "  \n",
        "\n"
      ],
      "metadata": {
        "id": "Xrurij-OQjZd"
      }
    },
    {
      "cell_type": "code",
      "source": [
        "# Example 1: Using if-else\n",
        "number = 10\n",
        "if number > 0:\n",
        "    print(\"Positive number\")\n",
        "else:\n",
        "    print(\"Negative number or zero\")\n"
      ],
      "metadata": {
        "colab": {
          "base_uri": "https://localhost:8080/"
        },
        "id": "NPygrcKBL5m0",
        "outputId": "47ef389f-fe9c-4e82-cf15-6825f04cb995"
      },
      "execution_count": 2,
      "outputs": [
        {
          "output_type": "stream",
          "name": "stdout",
          "text": [
            "Positive number\n"
          ]
        }
      ]
    },
    {
      "cell_type": "code",
      "source": [
        "# Example 2: Using def to create a function\n",
        "def greet():\n",
        "    print(\"Hello, welcome to Python!\")\n",
        "\n",
        "greet()\n"
      ],
      "metadata": {
        "colab": {
          "base_uri": "https://localhost:8080/"
        },
        "id": "XtyIkZ1RTkgZ",
        "outputId": "39e4a4e6-893b-4382-b13b-a7e8c5fbd8b4"
      },
      "execution_count": 3,
      "outputs": [
        {
          "output_type": "stream",
          "name": "stdout",
          "text": [
            "Hello, welcome to Python!\n"
          ]
        }
      ]
    },
    {
      "cell_type": "code",
      "source": [
        "# Example 3: Using for loop and range\n",
        "for i in range(3):\n",
        "    print(\"This is loop iteration\", i)\n"
      ],
      "metadata": {
        "colab": {
          "base_uri": "https://localhost:8080/"
        },
        "id": "DW8zuWteTmAM",
        "outputId": "25b964a8-fa54-4c4d-c18f-7745b9bd2ca6"
      },
      "execution_count": 4,
      "outputs": [
        {
          "output_type": "stream",
          "name": "stdout",
          "text": [
            "This is loop iteration 0\n",
            "This is loop iteration 1\n",
            "This is loop iteration 2\n"
          ]
        }
      ]
    },
    {
      "cell_type": "code",
      "source": [
        "# Example 4: Using try-except for error handling\n",
        "try:\n",
        "    result = 5 / 0\n",
        "except ZeroDivisionError:\n",
        "    print(\"Cannot divide by zero\")\n"
      ],
      "metadata": {
        "colab": {
          "base_uri": "https://localhost:8080/"
        },
        "id": "WSIuJFgKTorC",
        "outputId": "d47b0072-b515-4c01-9f17-34256cc1b02b"
      },
      "execution_count": 5,
      "outputs": [
        {
          "output_type": "stream",
          "name": "stdout",
          "text": [
            "Cannot divide by zero\n"
          ]
        }
      ]
    },
    {
      "cell_type": "markdown",
      "source": [
        "# 3. Compare and contrast mutable and immutable objects in Python with examples?\n",
        " # ->\n",
        "\n",
        " In Python, all data types are objects. These objects are categorized as either mutable or immutable depending on whether their value can be changed after creation. Understanding the difference between these two types is important for effective programming.\n",
        "\n",
        " # Mutable Objects:\n",
        "   - Mutable objects are those whose values can be changed after the object is created.\n",
        "\n",
        "   - When you modify a mutable object, you are modifying the original object itself.\n",
        "\n",
        "   - Examples: list, dictionary (dict), set, bytearray\n",
        "\n",
        "# Example:"
      ],
      "metadata": {
        "id": "yUneOQL4UyHS"
      }
    },
    {
      "cell_type": "code",
      "source": [
        "numbers = [1, 2, 3]\n",
        "numbers[0] = 10\n",
        "print(numbers)\n"
      ],
      "metadata": {
        "colab": {
          "base_uri": "https://localhost:8080/"
        },
        "id": "bkgA_jPjTtxY",
        "outputId": "b5381ec3-5416-4f93-c37c-702002433e0e"
      },
      "execution_count": 6,
      "outputs": [
        {
          "output_type": "stream",
          "name": "stdout",
          "text": [
            "[10, 2, 3]\n"
          ]
        }
      ]
    },
    {
      "cell_type": "markdown",
      "source": [
        "# Immutable Objects:\n",
        "   - Immutable objects are those whose values cannot be changed after creation.\n",
        "\n",
        "   - Any operation that seems to change the object actually creates a new object.\n",
        "\n",
        "   - Examples: int, float, string (str), tuple, bool, frozenset\n",
        "\n",
        "# Example:"
      ],
      "metadata": {
        "id": "_ulkyYUjWB8a"
      }
    },
    {
      "cell_type": "code",
      "source": [
        "text = \"Hello\"\n",
        "text = text + \" World\"\n",
        "print(text)\n"
      ],
      "metadata": {
        "colab": {
          "base_uri": "https://localhost:8080/"
        },
        "id": "v388BKOnVs38",
        "outputId": "928a9626-1c3e-409e-df0b-a97d235ad22a"
      },
      "execution_count": 8,
      "outputs": [
        {
          "output_type": "stream",
          "name": "stdout",
          "text": [
            "Hello World\n"
          ]
        }
      ]
    },
    {
      "cell_type": "markdown",
      "source": [
        "# Comparison Table:\n",
        "\n",
        "      #Feature        |      Mutable Objects      |     Immutable Objects\n",
        "     Can be changed   |           Yes             |           No\n",
        "     Memory Address   |      Remains the same     | New object is created\n",
        "     Examples         |      list, dict, set      | int, str, tuple, float\n",
        "  "
      ],
      "metadata": {
        "id": "Z7Jr_Y5ZWfWj"
      }
    },
    {
      "cell_type": "markdown",
      "source": [
        "# 4. Discuss the different types of operators in Python and provide examples of how they are used ?\n",
        "  ->\n",
        "\n",
        "  In Python, operators are special symbols used to perform operations on variables and values. These operations can be mathematical, logical, comparative, or assignment-based. Python includes several types of operators that help in writing efficient and meaningful programs.\n",
        "\n",
        " # Types of Operators in Python:\n",
        "  1. Arithmetic Operators:\n",
        "\n",
        "  These operators are used to perform mathematical operations like addition, subtraction, multiplication, etc.\n",
        "\n",
        "  Operator | Description         | Example\n",
        "          + | Addition            | 10 + 5 → 15\n",
        "          - | Subtraction         | 10 - 5 → 5\n",
        "          * | Multiplication      | 10 * 5 → 50\n",
        "          / | Division            | 10 / 2 → 5.0\n",
        "          //| Floor Division      | 10 // 3 → 3\n",
        "          % | Modulus (Remainder) | 10 % 3 → 1\n",
        "          **| Exponentiation      | 2 ** 3 → 8\n",
        "\n",
        "  2. Assignment Operators:\n",
        "\n",
        "  These are used to assign values to variables and update them.\n",
        "\n",
        "  Operator | Example | Meaning\n",
        "\n",
        "        = | x = 5   | Assigns 5 to x\n",
        "\n",
        "        += | x += 3  | x = x + 3\n",
        "\n",
        "        -= | x -= 2  | x = x - 2\n",
        "\n",
        "        *= |  x *= 4 | x = x * 4\n",
        "\n",
        "        /= | x /= 2  | x = x / 2\n",
        "\n",
        "  3. Comparison Operators:\n",
        "\n",
        "  These operators compare two values and return a Boolean result (True or False).\n",
        "\n",
        "Operator | Description    | Example\n",
        "\n",
        ".       == |   Equal to     | a == b\n",
        "\n",
        ".        != | Not equal to   | a != b\n",
        "\n",
        ".     > | Greater than   | a > b\n",
        "\n",
        " .        < | Less than      | a < b\n",
        "\n",
        ".       >= | Greater than or equal | a >= b\n",
        "\n",
        ".       <= | Less than or equal | a <= b\n",
        "\n",
        "  4. Logical Operators:\n",
        "\n",
        "     These are used to combine multiple conditions.\n",
        "\n",
        "Operator | Description                      | Example\n",
        "\n",
        ". and      | True if both conditions are true | a > 5 and b < 10\n",
        "\n",
        ". or       | True if at least one is true     | a > 5 or b > 10\n",
        "\n",
        ". not       | Reverses the condition          | not(a > b)\n",
        "\n",
        " 5. Identity Operators:\n",
        "\n",
        "   Used to compare the memory location of two objects.\n",
        "\n",
        "   Operator | Description | Example\n",
        "\n",
        "  .is     | True if both refer to same object | a is b         \n",
        "\n",
        "  .is not | True if not same object       | a is not b\n",
        "\n",
        "  6. Membership Operators:\n",
        "\n",
        "   Used to test if a value is in a sequence (like a list, tuple, or string).\n",
        "\n",
        "  Operator | Description | Example\n",
        "\n",
        "  .in | True if value exists | 'a' in 'apple'\n",
        "\n",
        "  .not in | True if value doesn't exist | 'x' not in 'cat'\n",
        "\n",
        "  7. Bitwise Operators:\n",
        "\n",
        "   These perform operations on binary numbers.\n",
        "\n",
        "   Operator | Description | Example\n",
        "\n",
        "    1.    & | Bitwise AND | 5 & 3 → 1\n",
        "\n",
        "    2. ` | ` | Bitwise OR\n",
        "\n",
        "    3. ^ | Bitwise XOR | 5 ^ 3 → 6\n",
        "\n",
        "    4. ~ | Bitwise NOT | ~5 → -6\n",
        "\n",
        "    5. << | Left Shift | 5 << 1 → 10\n",
        "\n",
        "     6.>>| Right Shift | 5 >> 1 → 2\n",
        "\n",
        "# Examples in Code:"
      ],
      "metadata": {
        "id": "FLS2HRPMYx-W"
      }
    },
    {
      "cell_type": "code",
      "source": [
        "# Arithmetic\n",
        "x = 10\n",
        "y = 3\n",
        "print(x + y)  # Output: 13\n",
        "\n",
        "# Assignment\n",
        "x += 2\n",
        "print(x)  # Output: 12\n",
        "\n",
        "# Comparison\n",
        "print(x > y)  # Output: True\n",
        "\n",
        "# Logical\n",
        "print(x > 5 and y < 5)  # Output: True\n",
        "\n",
        "# Membership\n",
        "print('a' in 'apple')  # Output: True\n",
        "\n"
      ],
      "metadata": {
        "colab": {
          "base_uri": "https://localhost:8080/"
        },
        "id": "scX27A8IYxgu",
        "outputId": "b87414f9-440c-4dac-8157-9e31ad80cee2"
      },
      "execution_count": 9,
      "outputs": [
        {
          "output_type": "stream",
          "name": "stdout",
          "text": [
            "13\n",
            "12\n",
            "True\n",
            "True\n",
            "True\n"
          ]
        }
      ]
    },
    {
      "cell_type": "markdown",
      "source": [
        "# 5. Explain the concept of type casting in Python with examples ?\n",
        "\n",
        "->\n",
        "\n",
        "  In Python, type casting refers to the process of converting the data type of a variable or value into another data type. This is also known as type conversion. Type casting is helpful when we want to perform operations involving different data types or when we need to change how data is interpreted by the program.\n",
        "\n",
        "  # Python supports two types of type casting:\n",
        "\n",
        "  - Implicit Type Casting\n",
        "\n",
        "  - Explicit Type Casting\n",
        "\n",
        "  1. Implicit Type Casting:\n",
        "\n",
        "  In implicit type casting, Python automatically converts one data type to another without the programmer needing to do anything. This usually happens when a smaller data type is converted into a larger data type to avoid data loss.\n",
        "\n",
        "# Example:\n"
      ],
      "metadata": {
        "id": "7fmwu8_ThNL7"
      }
    },
    {
      "cell_type": "code",
      "source": [
        "a = 5       # Integer\n",
        "b = 2.0     # Float\n",
        "\n",
        "result = a + b\n",
        "print(result)        # Output: 7.0\n",
        "print(type(result))  # Output: <class 'float'>\n"
      ],
      "metadata": {
        "colab": {
          "base_uri": "https://localhost:8080/"
        },
        "id": "cTXFvbEkWZtI",
        "outputId": "8bc03010-15b9-4513-cbb0-64d61798a145"
      },
      "execution_count": 10,
      "outputs": [
        {
          "output_type": "stream",
          "name": "stdout",
          "text": [
            "7.0\n",
            "<class 'float'>\n"
          ]
        }
      ]
    },
    {
      "cell_type": "markdown",
      "source": [
        "  2. Explicit Type Casting:\n",
        "\n",
        "  In explicit type casting, the programmer manually converts one data type to another using built-in Python functions. The most commonly used type casting functions are:\n",
        "\n",
        "    - int() – converts to integer\n",
        "\n",
        "    - float() – converts to float\n",
        "\n",
        "    - str() – converts to string\n",
        "\n",
        "    - bool() – converts to Boolean\n",
        "\n",
        "# Examples:\n",
        "\n"
      ],
      "metadata": {
        "id": "RaQoJlKTiK7A"
      }
    },
    {
      "cell_type": "code",
      "source": [
        "# Convert float to int\n",
        "a = 7.8\n",
        "b = int(a)\n",
        "print(b)  # Output: 7\n",
        "\n",
        "# Convert int to string\n",
        "x = 100\n",
        "y = str(x)\n",
        "print(y)          # Output: '100'\n",
        "print(type(y))    # Output: <class 'str'>\n",
        "\n",
        "# Convert string to float\n",
        "s = \"10.5\"\n",
        "f = float(s)\n",
        "print(f)  # Output: 10.5\n"
      ],
      "metadata": {
        "colab": {
          "base_uri": "https://localhost:8080/"
        },
        "id": "g0b_1sgFiB2p",
        "outputId": "15d04c8b-af9a-485e-d9e7-0f096e51668d"
      },
      "execution_count": 11,
      "outputs": [
        {
          "output_type": "stream",
          "name": "stdout",
          "text": [
            "7\n",
            "100\n",
            "<class 'str'>\n",
            "10.5\n"
          ]
        }
      ]
    },
    {
      "cell_type": "markdown",
      "source": [
        "# Conclusion:\n",
        "\n",
        "  Type casting in Python allows programmers to control and manage how data is interpreted and processed. It helps avoid errors in calculations and ensures compatibility between different data types. By using implicit and explicit type casting correctly, developers can write more flexible and robust Python programs.\n",
        "\n"
      ],
      "metadata": {
        "id": "uQnUf7XWi1AE"
      }
    },
    {
      "cell_type": "markdown",
      "source": [
        "# 6. How do conditional statements work in Python? Illustrate with examples ?\n",
        "\n",
        "->\n",
        "\n",
        "  In Python, conditional statements are used to make decisions in a program. These statements allow the program to execute certain blocks of code only when specific conditions are true. Conditional logic is important because it helps in controlling the flow of the program based on user input, variable values, or other conditions.\n",
        "\n",
        "# Types of Conditional Statements in Python:\n",
        "\n",
        "  Python provides the following conditional statements:\n",
        "\n",
        "1. if statement\n",
        "\n",
        "2. if-else statement\n",
        "\n",
        "3. if-elif-else ladder\n",
        "\n",
        "4. Nested if statements\n",
        "\n",
        "# 1. if Statement:\n",
        "\n",
        "  The if statement executes a block of code only if the condition is true.\n",
        "\n",
        "#Example:\n"
      ],
      "metadata": {
        "id": "1KsFtIsZjUwP"
      }
    },
    {
      "cell_type": "code",
      "source": [
        "x = 10\n",
        "if x > 5:\n",
        "    print(\"x is greater than 5\")\n"
      ],
      "metadata": {
        "colab": {
          "base_uri": "https://localhost:8080/"
        },
        "id": "rFEAlkacioYE",
        "outputId": "4b0bd0ef-45bd-42a7-aea2-efb57ef23c2e"
      },
      "execution_count": 12,
      "outputs": [
        {
          "output_type": "stream",
          "name": "stdout",
          "text": [
            "x is greater than 5\n"
          ]
        }
      ]
    },
    {
      "cell_type": "markdown",
      "source": [
        "# 2. The if-else Statement:\n",
        "\n",
        "  The if-else statement provides two possible paths. If the condition is true, the if block runs; otherwise, the else block runs.\n",
        "\n",
        "# Example:"
      ],
      "metadata": {
        "id": "6BrxzKnpkQpD"
      }
    },
    {
      "cell_type": "code",
      "source": [
        "x = 3\n",
        "if x % 2 == 0:\n",
        "    print(\"x is even\")\n",
        "else:\n",
        "    print(\"x is odd\")\n"
      ],
      "metadata": {
        "colab": {
          "base_uri": "https://localhost:8080/"
        },
        "id": "cXr3j-z7kLzA",
        "outputId": "d48ec498-6a59-4fb2-c552-a44d65cfb625"
      },
      "execution_count": 13,
      "outputs": [
        {
          "output_type": "stream",
          "name": "stdout",
          "text": [
            "x is odd\n"
          ]
        }
      ]
    },
    {
      "cell_type": "markdown",
      "source": [
        "# 3. The if-elif-else Ladder:\n",
        "When there are multiple conditions to check, elif (short for \"else if\") is used.\n",
        "\n",
        "# Example:"
      ],
      "metadata": {
        "id": "Jllm0kRyknbn"
      }
    },
    {
      "cell_type": "code",
      "source": [
        "marks = 85\n",
        "\n",
        "if marks >= 90:\n",
        "    print(\"Grade A\")\n",
        "elif marks >= 75:\n",
        "    print(\"Grade B\")\n",
        "elif marks >= 60:\n",
        "    print(\"Grade C\")\n",
        "else:\n",
        "    print(\"Grade D\")\n"
      ],
      "metadata": {
        "colab": {
          "base_uri": "https://localhost:8080/"
        },
        "id": "c2BN7jDekY-D",
        "outputId": "a520a208-2c60-4942-db5a-1dc8c509ca21"
      },
      "execution_count": 14,
      "outputs": [
        {
          "output_type": "stream",
          "name": "stdout",
          "text": [
            "Grade B\n"
          ]
        }
      ]
    },
    {
      "cell_type": "markdown",
      "source": [
        "# 4. Nested if Statements:\n",
        "\n",
        "  You can use an if statement inside another if statement, which is known as a nested if.\n",
        "\n",
        "# Example:"
      ],
      "metadata": {
        "id": "K7beJWIXk20M"
      }
    },
    {
      "cell_type": "code",
      "source": [
        "x = 20\n",
        "if x > 10:\n",
        "    if x < 30:\n",
        "        print(\"x is between 10 and 30\")\n"
      ],
      "metadata": {
        "colab": {
          "base_uri": "https://localhost:8080/"
        },
        "id": "JcuF97SPk0cO",
        "outputId": "8c9cbf0a-3186-4301-84c9-aa2f5952704d"
      },
      "execution_count": 15,
      "outputs": [
        {
          "output_type": "stream",
          "name": "stdout",
          "text": [
            "x is between 10 and 30\n"
          ]
        }
      ]
    },
    {
      "cell_type": "markdown",
      "source": [
        "#7. Describe the different types of loops in Python and their use cases with examples ?\n",
        "\n",
        "->\n",
        "\n",
        "  In Python, loops are used to execute a block of code repeatedly as long as a certain condition is true. Loops help reduce code repetition and make programs more efficient and readable. Python mainly supports two types of loops: the for loop and the while loop. Additionally, loop control statements like break, continue, and pass are used to manage the loop's behavior.\n",
        "\n",
        " # 1. for Loop:\n",
        "\n",
        "  The for loop is used to iterate over a sequence such as a list, tuple, string, or range of numbers. It is especially useful when the number of iterations is known in advance.\n",
        "\n",
        "  Use Case: Iterating through elements in a collection, looping a specific number of times.\n",
        "\n",
        "#Example:\n",
        "\n"
      ],
      "metadata": {
        "id": "EhsBKFE4lOTu"
      }
    },
    {
      "cell_type": "code",
      "source": [
        "for i in range(5):\n",
        "    print(\"Number:\", i)\n"
      ],
      "metadata": {
        "colab": {
          "base_uri": "https://localhost:8080/"
        },
        "id": "32sYBNlylDnG",
        "outputId": "34db2e8e-02ed-473e-dd15-e3103b27dbc1"
      },
      "execution_count": 16,
      "outputs": [
        {
          "output_type": "stream",
          "name": "stdout",
          "text": [
            "Number: 0\n",
            "Number: 1\n",
            "Number: 2\n",
            "Number: 3\n",
            "Number: 4\n"
          ]
        }
      ]
    },
    {
      "cell_type": "markdown",
      "source": [
        "# 2. while Loop:\n",
        "\n",
        "  The while loop is used when the number of iterations is not known in advance and the loop should continue until a certain condition becomes false.\n",
        "\n",
        "  Use Case: Repeating a task until a condition changes, such as waiting for user input or sensor data.\n",
        "\n",
        "#Example:"
      ],
      "metadata": {
        "id": "hX3iqRaEmA6E"
      }
    },
    {
      "cell_type": "code",
      "source": [
        "count = 1\n",
        "while count <= 3:\n",
        "    print(\"Count is:\", count)\n",
        "    count += 1\n"
      ],
      "metadata": {
        "colab": {
          "base_uri": "https://localhost:8080/"
        },
        "id": "eCjgKYosl-v-",
        "outputId": "784020a3-b01d-4801-ecfd-801942ea410e"
      },
      "execution_count": 17,
      "outputs": [
        {
          "output_type": "stream",
          "name": "stdout",
          "text": [
            "Count is: 1\n",
            "Count is: 2\n",
            "Count is: 3\n"
          ]
        }
      ]
    },
    {
      "cell_type": "markdown",
      "source": [
        "#3. Loop Control Statements:\n",
        "\n",
        "#a.) break Statement:\n",
        "Used to exit a loop prematurely when a certain condition is met.\n",
        "\n",
        "#Example:"
      ],
      "metadata": {
        "id": "neeZWOMwmXho"
      }
    },
    {
      "cell_type": "code",
      "source": [
        "for i in range(10):\n",
        "    if i == 5:\n",
        "        break\n",
        "    print(i)\n"
      ],
      "metadata": {
        "colab": {
          "base_uri": "https://localhost:8080/"
        },
        "id": "APKhe9O9mO8L",
        "outputId": "44ed6100-8a49-4b83-a3a1-1d58578bf212"
      },
      "execution_count": 18,
      "outputs": [
        {
          "output_type": "stream",
          "name": "stdout",
          "text": [
            "0\n",
            "1\n",
            "2\n",
            "3\n",
            "4\n"
          ]
        }
      ]
    },
    {
      "cell_type": "markdown",
      "source": [
        "# b.) continue Statement:\n",
        "\n",
        "  Skips the current iteration and moves to the next one.\n",
        "\n",
        "# Example:\n",
        "\n",
        "\n"
      ],
      "metadata": {
        "id": "3eJllqMFmpH4"
      }
    },
    {
      "cell_type": "code",
      "source": [
        "for i in range(5):\n",
        "    if i == 2:\n",
        "        continue\n",
        "    print(i)\n"
      ],
      "metadata": {
        "colab": {
          "base_uri": "https://localhost:8080/"
        },
        "id": "maEop3AImilf",
        "outputId": "71447ddf-cc23-495c-c7e3-9653884554a3"
      },
      "execution_count": 19,
      "outputs": [
        {
          "output_type": "stream",
          "name": "stdout",
          "text": [
            "0\n",
            "1\n",
            "3\n",
            "4\n"
          ]
        }
      ]
    },
    {
      "cell_type": "code",
      "source": [],
      "metadata": {
        "id": "Mxli4CL4m2cu"
      },
      "execution_count": null,
      "outputs": []
    }
  ]
}